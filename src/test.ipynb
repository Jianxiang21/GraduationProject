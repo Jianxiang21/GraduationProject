{
 "cells": [
  {
   "cell_type": "code",
   "execution_count": 1,
   "id": "1f28d0d2",
   "metadata": {},
   "outputs": [],
   "source": [
    "import torch\n",
    "import numpy as np\n",
    "from ResNet import ResNetPredictor  # 从你的ResNet.py文件中导入预测器类"
   ]
  },
  {
   "cell_type": "code",
   "execution_count": 2,
   "id": "0b0ab741",
   "metadata": {},
   "outputs": [],
   "source": [
    "input_validate = torch.load('D:/Senior/毕设/code/GraduationProject/validate_data/Pd_validate.pt')"
   ]
  },
  {
   "cell_type": "code",
   "execution_count": 3,
   "id": "f4a0ec17",
   "metadata": {},
   "outputs": [],
   "source": [
    "input_train = torch.load('D:/Senior/毕设/code/GraduationProject/train_data/Pd_torch.pt')"
   ]
  },
  {
   "cell_type": "code",
   "execution_count": 5,
   "id": "abc9b9bd",
   "metadata": {},
   "outputs": [
    {
     "name": "stderr",
     "output_type": "stream",
     "text": [
      "d:\\Senior\\毕设\\code\\GraduationProject\\src\\ResNet.py:169: UserWarning: To copy construct from a tensor, it is recommended to use sourceTensor.clone().detach() or sourceTensor.clone().detach().requires_grad_(True), rather than torch.tensor(sourceTensor).\n",
      "  x_tensor = torch.tensor(self.preprocess(x), dtype=torch.float32).to(self.device)\n"
     ]
    }
   ],
   "source": [
    "predictor = ResNetPredictor(\n",
    "    model_path=\"D:\\Senior\\毕设\\code\\GraduationProject\\model\\linear_resnet_model.pt\",\n",
    "    preprocess_path='D:\\Senior\\毕设\\code\\GraduationProject\\model_data\\linear_resnet_preprocess.npz'\n",
    ")\n",
    "predictions_validate = predictor.predict(input_validate)\n",
    "predictions_train = predictor.predict(input_train)"
   ]
  },
  {
   "cell_type": "code",
   "execution_count": 7,
   "id": "0bee8ff7",
   "metadata": {},
   "outputs": [],
   "source": [
    "real_validate = torch.load('D:/Senior/毕设/code/GraduationProject/validate_data/linear_result_validate.pt')\n",
    "real_train = torch.load('D:/Senior/毕设/code/GraduationProject/train_data/linear_result.pt')"
   ]
  },
  {
   "cell_type": "code",
   "execution_count": 8,
   "id": "255410ae",
   "metadata": {},
   "outputs": [],
   "source": [
    "error_train = real_train - predictions_train"
   ]
  },
  {
   "cell_type": "code",
   "execution_count": 2,
   "id": "bcee9cea",
   "metadata": {},
   "outputs": [],
   "source": [
    "import torch\n",
    "Pd = torch.load('D:/Senior/毕设/code/GraduationProject/train_data/Pd_torch.pt')\n",
    "poly_result = torch.load('D:/Senior/毕设/code/GraduationProject/train_data/poly_result.pt')\n",
    "dataset = torch.cat((Pd, poly_result), dim=1)"
   ]
  },
  {
   "cell_type": "code",
   "execution_count": 3,
   "id": "e4e027f9",
   "metadata": {},
   "outputs": [
    {
     "data": {
      "text/plain": [
       "torch.Size([8760, 653])"
      ]
     },
     "execution_count": 3,
     "metadata": {},
     "output_type": "execute_result"
    }
   ],
   "source": [
    "dataset.size()"
   ]
  },
  {
   "cell_type": "code",
   "execution_count": 4,
   "id": "ad561dda",
   "metadata": {},
   "outputs": [],
   "source": [
    "torch.save(dataset, 'D:/Senior/毕设/code/GraduationProject/train_data/dataset_poly.pt')"
   ]
  }
 ],
 "metadata": {
  "kernelspec": {
   "display_name": "base",
   "language": "python",
   "name": "python3"
  },
  "language_info": {
   "codemirror_mode": {
    "name": "ipython",
    "version": 3
   },
   "file_extension": ".py",
   "mimetype": "text/x-python",
   "name": "python",
   "nbconvert_exporter": "python",
   "pygments_lexer": "ipython3",
   "version": "3.11.5"
  }
 },
 "nbformat": 4,
 "nbformat_minor": 5
}
