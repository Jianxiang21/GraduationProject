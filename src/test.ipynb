{
 "cells": [
  {
   "cell_type": "code",
   "execution_count": 1,
   "id": "1f28d0d2",
   "metadata": {},
   "outputs": [],
   "source": [
    "import torch\n",
    "import numpy as np\n",
    "from ResNet import ResNetPredictor  # 从你的ResNet.py文件中导入预测器类"
   ]
  },
  {
   "cell_type": "code",
   "execution_count": 2,
   "id": "0b0ab741",
   "metadata": {},
   "outputs": [],
   "source": [
    "input_validate = torch.load('D:/Senior/毕设/code/GraduationProject/validate_data/Pd_validate.pt')"
   ]
  },
  {
   "cell_type": "code",
   "execution_count": 3,
   "id": "f4a0ec17",
   "metadata": {},
   "outputs": [],
   "source": [
    "input_train = torch.load('D:/Senior/毕设/code/GraduationProject/train_data/Pd_torch.pt')"
   ]
  },
  {
   "cell_type": "code",
   "execution_count": 5,
   "id": "abc9b9bd",
   "metadata": {},
   "outputs": [
    {
     "name": "stderr",
     "output_type": "stream",
     "text": [
      "d:\\Senior\\毕设\\code\\GraduationProject\\src\\ResNet.py:169: UserWarning: To copy construct from a tensor, it is recommended to use sourceTensor.clone().detach() or sourceTensor.clone().detach().requires_grad_(True), rather than torch.tensor(sourceTensor).\n",
      "  x_tensor = torch.tensor(self.preprocess(x), dtype=torch.float32).to(self.device)\n"
     ]
    }
   ],
   "source": [
    "predictor = ResNetPredictor(\n",
    "    model_path=\"D:\\Senior\\毕设\\code\\GraduationProject\\model\\linear_resnet_model.pt\",\n",
    "    preprocess_path='D:\\Senior\\毕设\\code\\GraduationProject\\model_data\\linear_resnet_preprocess.npz'\n",
    ")\n",
    "predictions_validate = predictor.predict(input_validate)\n",
    "predictions_train = predictor.predict(input_train)"
   ]
  },
  {
   "cell_type": "code",
   "execution_count": 7,
   "id": "0bee8ff7",
   "metadata": {},
   "outputs": [],
   "source": [
    "real_validate = torch.load('D:/Senior/毕设/code/GraduationProject/validate_data/linear_result_validate.pt')\n",
    "real_train = torch.load('D:/Senior/毕设/code/GraduationProject/train_data/linear_result.pt')"
   ]
  },
  {
   "cell_type": "code",
   "execution_count": 8,
   "id": "255410ae",
   "metadata": {},
   "outputs": [],
   "source": [
    "error_train = real_train - predictions_train"
   ]
  },
  {
   "cell_type": "code",
   "execution_count": 2,
   "id": "bcee9cea",
   "metadata": {},
   "outputs": [],
   "source": [
    "import torch\n",
    "Pd = torch.load('D:/Senior/毕设/code/GraduationProject/train_data/Pd_torch.pt')\n",
    "poly_result = torch.load('D:/Senior/毕设/code/GraduationProject/train_data/poly_result.pt')\n",
    "dataset = torch.cat((Pd, poly_result), dim=1)"
   ]
  },
  {
   "cell_type": "code",
   "execution_count": 3,
   "id": "e4e027f9",
   "metadata": {},
   "outputs": [
    {
     "data": {
      "text/plain": [
       "torch.Size([8760, 653])"
      ]
     },
     "execution_count": 3,
     "metadata": {},
     "output_type": "execute_result"
    }
   ],
   "source": [
    "dataset.size()"
   ]
  },
  {
   "cell_type": "code",
   "execution_count": 4,
   "id": "ad561dda",
   "metadata": {},
   "outputs": [],
   "source": [
    "torch.save(dataset, 'D:/Senior/毕设/code/GraduationProject/train_data/dataset_poly.pt')"
   ]
  },
  {
   "cell_type": "code",
   "execution_count": 1,
   "id": "1002ce11",
   "metadata": {},
   "outputs": [],
   "source": [
    "import torch\n",
    "dataset = torch.load('D:/Senior/毕设/code/GraduationProject/train_data/dataset_poly.pt')\n",
    "data = dataset[0, :]"
   ]
  },
  {
   "cell_type": "code",
   "execution_count": 17,
   "id": "2ec97bac",
   "metadata": {},
   "outputs": [],
   "source": [
    "pd = data[:118]\n",
    "pg = data[118:172]\n",
    "mu = data[172]\n",
    "lambda_all = data[173:]"
   ]
  },
  {
   "cell_type": "code",
   "execution_count": 18,
   "id": "c4105a09",
   "metadata": {},
   "outputs": [],
   "source": [
    "lambda_all = lambda_all.unsqueeze(0)\n",
    "mu = mu.unsqueeze(0)\n",
    "lambda_all = lambda_all.unsqueeze(0).numpy()\n"
   ]
  },
  {
   "cell_type": "code",
   "execution_count": 24,
   "id": "cd1e5c11",
   "metadata": {},
   "outputs": [
    {
     "name": "stdout",
     "output_type": "stream",
     "text": [
      "tensor([262244.9062])\n",
      "[ 0.0000000e+00  4.1836246e-09  0.0000000e+00  5.2799702e-09\n",
      "  0.0000000e+00  5.2421254e-09  0.0000000e+00  0.0000000e+00\n",
      "  5.7533311e-09  0.0000000e+00  0.0000000e+00  0.0000000e+00\n",
      "  0.0000000e+00  4.5457700e-09  4.7896100e-09  0.0000000e+00\n",
      "  0.0000000e+00  0.0000000e+00  0.0000000e+00  0.0000000e+00\n",
      "  0.0000000e+00  0.0000000e+00  5.4535865e-09  0.0000000e+00\n",
      "  0.0000000e+00  0.0000000e+00  0.0000000e+00  0.0000000e+00\n",
      "  0.0000000e+00  0.0000000e+00  0.0000000e+00  0.0000000e+00\n",
      "  0.0000000e+00  0.0000000e+00  4.7559001e-09  0.0000000e+00\n",
      "  0.0000000e+00  0.0000000e+00  4.3960768e-09  0.0000000e+00\n",
      "  4.1949613e-09  0.0000000e+00  0.0000000e+00  4.3988102e-09\n",
      "  4.3995438e-09  0.0000000e+00  0.0000000e+00  0.0000000e+00\n",
      "  4.4025299e-09  4.6878275e-09  0.0000000e+00  4.7271382e-09\n",
      "  4.6300217e-09  4.6540580e-09  0.0000000e+00  0.0000000e+00\n",
      "  0.0000000e+00  0.0000000e+00  0.0000000e+00  4.8645115e-09\n",
      "  5.6485621e-09  0.0000000e+00  0.0000000e+00  3.8213543e-09\n",
      "  0.0000000e+00  0.0000000e+00  0.0000000e+00  0.0000000e+00\n",
      "  0.0000000e+00  0.0000000e+00  0.0000000e+00  0.0000000e+00\n",
      "  0.0000000e+00  0.0000000e+00  0.0000000e+00  0.0000000e+00\n",
      "  0.0000000e+00  0.0000000e+00  0.0000000e+00  0.0000000e+00\n",
      "  0.0000000e+00  0.0000000e+00  0.0000000e+00  0.0000000e+00\n",
      "  0.0000000e+00  0.0000000e+00  0.0000000e+00  0.0000000e+00\n",
      "  0.0000000e+00  0.0000000e+00  0.0000000e+00  0.0000000e+00\n",
      "  0.0000000e+00  0.0000000e+00  0.0000000e+00  0.0000000e+00\n",
      "  0.0000000e+00  0.0000000e+00  0.0000000e+00  0.0000000e+00\n",
      "  0.0000000e+00  0.0000000e+00  0.0000000e+00  0.0000000e+00\n",
      "  0.0000000e+00  0.0000000e+00  0.0000000e+00  0.0000000e+00\n",
      "  0.0000000e+00  0.0000000e+00  0.0000000e+00  0.0000000e+00\n",
      "  0.0000000e+00  0.0000000e+00  0.0000000e+00  0.0000000e+00\n",
      "  0.0000000e+00  0.0000000e+00  0.0000000e+00  0.0000000e+00\n",
      "  0.0000000e+00  0.0000000e+00  0.0000000e+00  0.0000000e+00\n",
      "  0.0000000e+00  0.0000000e+00 -0.0000000e+00 -0.0000000e+00\n",
      " -0.0000000e+00 -7.6183357e-04 -1.8676608e+05 -8.9798336e+04\n",
      " -0.0000000e+00 -0.0000000e+00 -0.0000000e+00 -0.0000000e+00\n",
      " -1.4441892e+05 -1.6417217e+05 -0.0000000e+00 -0.0000000e+00\n",
      " -0.0000000e+00 -0.0000000e+00 -0.0000000e+00 -0.0000000e+00\n",
      " -0.0000000e+00 -0.0000000e+00 -0.0000000e+00 -0.0000000e+00\n",
      " -0.0000000e+00 -0.0000000e+00 -0.0000000e+00 -0.0000000e+00\n",
      " -0.0000000e+00 -0.0000000e+00 -0.0000000e+00 -0.0000000e+00\n",
      " -0.0000000e+00 -0.0000000e+00 -0.0000000e+00 -0.0000000e+00\n",
      " -0.0000000e+00 -0.0000000e+00 -0.0000000e+00 -0.0000000e+00\n",
      " -0.0000000e+00 -0.0000000e+00 -0.0000000e+00 -0.0000000e+00\n",
      " -0.0000000e+00 -0.0000000e+00 -0.0000000e+00 -0.0000000e+00\n",
      " -0.0000000e+00 -0.0000000e+00 -0.0000000e+00 -0.0000000e+00\n",
      " -0.0000000e+00 -0.0000000e+00 -0.0000000e+00 -0.0000000e+00]\n"
     ]
    }
   ],
   "source": [
    "print(mu)\n",
    "print(lambda_all[0,0,300:])"
   ]
  }
 ],
 "metadata": {
  "kernelspec": {
   "display_name": "base",
   "language": "python",
   "name": "python3"
  },
  "language_info": {
   "codemirror_mode": {
    "name": "ipython",
    "version": 3
   },
   "file_extension": ".py",
   "mimetype": "text/x-python",
   "name": "python",
   "nbconvert_exporter": "python",
   "pygments_lexer": "ipython3",
   "version": "3.11.5"
  }
 },
 "nbformat": 4,
 "nbformat_minor": 5
}
